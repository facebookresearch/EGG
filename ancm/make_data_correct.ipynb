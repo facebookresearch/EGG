{
 "cells": [
  {
   "cell_type": "code",
   "execution_count": 35,
   "metadata": {},
   "outputs": [],
   "source": [
    "from egg.zoo.objects_game import train, features, util, archs\n",
    "from sklearn.model_selection import train_test_split\n",
    "\n",
    "import torch\n",
    "import numpy as np\n",
    "import pandas as pd\n"
   ]
  },
  {
   "cell_type": "code",
   "execution_count": 36,
   "metadata": {},
   "outputs": [],
   "source": [
    "n_distractors = 4"
   ]
  },
  {
   "cell_type": "code",
   "execution_count": 37,
   "metadata": {},
   "outputs": [],
   "source": [
    "def reshape_make_tensor(data, n_distractors, n_features):\n",
    "    labels = []\n",
    "    data_tensor = torch.tensor(data)\n",
    "    data_reshaped = torch.empty((len(data), n_distractors + 1, n_features), dtype=torch.float32)\n",
    "    for item in range(len(data)):\n",
    "        # create a list of size of distractors\n",
    "        distractor_idx = list(range(0, n_distractors+1))\n",
    "        # randomly pick an index for the actual data and remove that from list and save in labels\n",
    "        idx = np.random.randint(0,n_distractors+1)\n",
    "        distractor_idx.remove(idx)\n",
    "        labels.append(idx)\n",
    "        # add feature data to tensor at correct idx\n",
    "        data_reshaped[item][idx] = data_tensor[item]\n",
    "\n",
    "        for distractor in distractor_idx:\n",
    "            picked_features = item\n",
    "            while picked_features == item:\n",
    "                picked_features = np.random.randint(0, len(data))\n",
    "            data_reshaped[item][distractor] = data_tensor[picked_features]\n",
    "\n",
    "    return data_reshaped, labels\n"
   ]
  },
  {
   "cell_type": "code",
   "execution_count": 38,
   "metadata": {},
   "outputs": [],
   "source": [
    "visa = pd.read_csv(\"ancm/visa.csv\")\n",
    "\n",
    "features = visa.iloc[:, 1:].values\n",
    "\n",
    "# we do not really need thos I think\n",
    "textlabels = visa.iloc[:, :1].values\n",
    "\n",
    "n_features = features.shape[1]\n",
    "\n",
    "# divide 60% for train, 20% test and valid\n",
    "train_features, temp_features, train_textlabels, temp_labels = train_test_split(features, textlabels, test_size=0.4)\n",
    "valid_features, test_features, valid_textlabels, test_textlabels = train_test_split(temp_features, temp_labels, test_size=0.5)\n",
    "\n",
    "train_size = len(train_features)\n",
    "valid_size = len(valid_features)\n",
    "test_size = len(test_features)\n",
    "\n",
    "train, train_labels = reshape_make_tensor(train_features, n_distractors, n_features)\n",
    "valid, valid_labels = reshape_make_tensor(valid_features, n_distractors, n_features)\n",
    "test, test_labels = reshape_make_tensor(test_features, n_distractors, n_features)"
   ]
  },
  {
   "cell_type": "code",
   "execution_count": 42,
   "metadata": {},
   "outputs": [],
   "source": [
    "np.savez(\"visa\", train=train, valid=valid, test=test,\n",
    "         train_labels=train_labels, valid_labels=valid_labels, test_labels=test_labels,\n",
    "         n_distractors=n_distractors)"
   ]
  }
 ],
 "metadata": {
  "kernelspec": {
   "display_name": "egg36",
   "language": "python",
   "name": "python3"
  },
  "language_info": {
   "codemirror_mode": {
    "name": "ipython",
    "version": 3
   },
   "file_extension": ".py",
   "mimetype": "text/x-python",
   "name": "python",
   "nbconvert_exporter": "python",
   "pygments_lexer": "ipython3",
   "version": "3.6.13"
  }
 },
 "nbformat": 4,
 "nbformat_minor": 2
}
