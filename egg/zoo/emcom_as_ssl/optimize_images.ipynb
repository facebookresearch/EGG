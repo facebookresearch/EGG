{
 "cells": [
  {
   "cell_type": "code",
   "execution_count": null,
   "metadata": {
    "scrolled": true
   },
   "outputs": [],
   "source": [
    "! pip install --editable '/private/home/rdessi/visualize_EGG/'"
   ]
  },
  {
   "cell_type": "code",
   "execution_count": 1,
   "metadata": {},
   "outputs": [
    {
     "name": "stdout",
     "output_type": "stream",
     "text": [
      "['/private/home/rdessi/EGG/egg']\n"
     ]
    }
   ],
   "source": [
    "import argparse\n",
    "from collections import defaultdict, Counter\n",
    "import random\n",
    "import json\n",
    "\n",
    "import matplotlib.pyplot as plt\n",
    "import numpy as np\n",
    "from sklearn.cluster import KMeans\n",
    "import torch\n",
    "\n",
    "from egg.zoo.emcom_as_ssl.games import build_game\n",
    "\n",
    "seed = 111\n",
    "random.seed(seed)\n",
    "torch.manual_seed(seed)\n",
    "np.random.seed(seed)\n",
    "if torch.cuda.is_available():\n",
    "        torch.cuda.manual_seed_all(seed)\n",
    "        \n",
    "import egg\n",
    "print(egg.__path__)"
   ]
  },
  {
   "cell_type": "code",
   "execution_count": 1,
   "metadata": {},
   "outputs": [
    {
     "ename": "NameError",
     "evalue": "name 'argparse' is not defined",
     "output_type": "error",
     "traceback": [
      "\u001b[0;31m---------------------------------------------------------------------------\u001b[0m",
      "\u001b[0;31mNameError\u001b[0m                                 Traceback (most recent call last)",
      "\u001b[0;32m<ipython-input-1-a38d7d32693b>\u001b[0m in \u001b[0;36m<module>\u001b[0;34m\u001b[0m\n\u001b[1;32m     29\u001b[0m \u001b[0mparams\u001b[0m\u001b[0;34m.\u001b[0m\u001b[0mupdate\u001b[0m\u001b[0;34m(\u001b[0m\u001b[0mparams_fixed\u001b[0m\u001b[0;34m)\u001b[0m\u001b[0;34m\u001b[0m\u001b[0;34m\u001b[0m\u001b[0m\n\u001b[1;32m     30\u001b[0m \u001b[0;34m\u001b[0m\u001b[0m\n\u001b[0;32m---> 31\u001b[0;31m \u001b[0mdistributed_context\u001b[0m \u001b[0;34m=\u001b[0m \u001b[0margparse\u001b[0m\u001b[0;34m.\u001b[0m\u001b[0mNamespace\u001b[0m\u001b[0;34m(\u001b[0m\u001b[0mis_distributed\u001b[0m\u001b[0;34m=\u001b[0m\u001b[0;32mFalse\u001b[0m\u001b[0;34m)\u001b[0m\u001b[0;34m\u001b[0m\u001b[0;34m\u001b[0m\u001b[0m\n\u001b[0m\u001b[1;32m     32\u001b[0m \u001b[0;34m\u001b[0m\u001b[0m\n\u001b[1;32m     33\u001b[0m other_params = dict(\n",
      "\u001b[0;31mNameError\u001b[0m: name 'argparse' is not defined"
     ]
    }
   ],
   "source": [
    "# TODO: change path to checkpoint here and fix the params_dict\n",
    "checkpoint_path = (\n",
    "#    \"/private/home/rdessi/neurips_exp/new_exps/fixed_temp_5_augmentations_shared_vision_xent/40360153_0/final.tar\"\n",
    "#    \"/private/home/rdessi/neurips_exp/new_exps/fixed_temp_5_augmentations_no_shared_vision_xent/40335995_0/final.tar\"\n",
    "#    \"/private/home/rdessi/neurips_exp/new_exps/simclr_augmentations_shared_vision_ntxent/40329294_0/final.tar\"\n",
    "    \"/private/home/rdessi/neurips_exp/new_exps/simclr_augmentations_shared_vision_ntxent/40329294_0/final.tar\"\n",
    ")\n",
    "\n",
    "params = dict(\n",
    "    loss_type='ntxent',\n",
    "    shared_vision=True,\n",
    "    use_augmentations=False,\n",
    "    simclr_sender=False\n",
    ")\n",
    "\n",
    "params_fixed = dict(\n",
    "    pretrain_vision=False,\n",
    "    model_name=\"resnet50\",\n",
    "    similarity=\"cosine\",\n",
    "    loss_temperature=1.0,\n",
    "    batch_size=128,\n",
    "    random_seed=111,\n",
    "    gs_temperature=5.0,\n",
    "    gs_temperature_decay=1.0,\n",
    "    minimum_gs_temperature=1.0,\n",
    "    update_gs_temp_frequency=1,\n",
    ")\n",
    "\n",
    "params.update(params_fixed)\n",
    "\n",
    "distributed_context = argparse.Namespace(is_distributed=False)\n",
    "\n",
    "other_params = dict(\n",
    "    checkpoint_dir='', \n",
    "    checkpoint_freq=1, cuda=True, dataset_dir='/datasets01/imagenet_full_size/061417/train', \n",
    "    device=torch.device(type='cuda'), \n",
    "    distributed_context=distributed_context, distributed_port=18363, fp16=True, image_size=224,\n",
    "    load_from_checkpoint=None, max_len=1, n_epochs=100, no_cuda=False, num_workers=4, \n",
    "    optimizer='adam', pdb=False, preemptable=True, projection_hidden_dim=2048, projection_output_dim=2048,\n",
    "    straight_through=False, tensorboard=False, tensorboard_dir='runs/', train_gs_temperature=False, update_freq=1, \n",
    "    validation_dataset_dir='/datasets01/imagenet_full_size/061417/val', validation_freq=5, vocab_size=10, \n",
    "    wandb=False, weight_decay=1e-05\n",
    ")\n",
    "\n",
    "params.update(other_params)\n",
    "params = argparse.Namespace(**params)"
   ]
  },
  {
   "cell_type": "code",
   "execution_count": 5,
   "metadata": {
    "scrolled": false
   },
   "outputs": [
    {
     "data": {
      "text/plain": [
       "<All keys matched successfully>"
      ]
     },
     "execution_count": 5,
     "metadata": {},
     "output_type": "execute_result"
    }
   ],
   "source": [
    "game = build_game(params)\n",
    "checkpoint = torch.load(checkpoint_path)\n",
    "game.load_state_dict(checkpoint.model_state_dict)"
   ]
  },
  {
   "cell_type": "code",
   "execution_count": 6,
   "metadata": {},
   "outputs": [],
   "source": [
    "from egg.zoo.emcom_as_ssl.data import get_dataloader\n",
    "\n",
    "opts = params\n",
    "\n",
    "train_loader, validation_loader = get_dataloader(\n",
    "    dataset_dir=opts.dataset_dir,\n",
    "    image_size=opts.image_size,\n",
    "    batch_size=opts.batch_size,\n",
    "    validation_dataset_dir=opts.validation_dataset_dir,\n",
    "    num_workers=opts.num_workers,\n",
    "    use_augmentations=opts.use_augmentations,\n",
    "    is_distributed=opts.distributed_context.is_distributed,\n",
    "    seed=opts.random_seed,\n",
    ")\n",
    "game = game.cuda().eval()"
   ]
  },
  {
   "cell_type": "code",
   "execution_count": null,
   "metadata": {},
   "outputs": [],
   "source": [
    "msg2img = defaultdict(list)\n",
    "\n",
    "resnet_output_list = []\n",
    "original_image_list = []\n",
    "\n",
    "for (x_i, x_j, original_image), labels in validation_loader:\n",
    "    x_i = x_i.cuda()\n",
    "    x_j = x_j.cuda()\n",
    "    \n",
    "    with torch.no_grad():\n",
    "        sender_encoded_input, receiver_encoded_input = game.vision_module(x_i, x_j)\n",
    "        message, message_like, resnet_output = game.game.sender(sender_encoded_input)\n",
    "\n",
    "    for i, symbol in enumerate(message_like):\n",
    "        sym = torch.argmax(symbol).item()\n",
    "        msg2img[sym].append(original_image[i])\n",
    "        \n",
    "        resnet_output_list.append(resnet_output[i])\n",
    "        original_image_list.append(original_image[i])"
   ]
  },
  {
   "cell_type": "code",
   "execution_count": null,
   "metadata": {},
   "outputs": [],
   "source": [
    "cnt_msg = Counter()\n",
    "print(len(msg2img))\n",
    "for k, v in msg2img.items():\n",
    "    cnt_msg[k] = len(v)\n",
    "\n",
    "cnt_msg.most_common(20)"
   ]
  },
  {
   "cell_type": "code",
   "execution_count": null,
   "metadata": {
    "scrolled": false
   },
   "outputs": [],
   "source": [
    "msg = 1547\n",
    "images = random.sample(msg2img[msg], 30)\n",
    "\n",
    "for img_idx in range(0, len(images), 3):\n",
    "    v = torch.cat([\n",
    "        images[img_idx].permute(1, 2, 0),\n",
    "        images[img_idx+1].permute(1, 2, 0),\n",
    "        images[img_idx+2].permute(1, 2, 0),\n",
    "        # images[img_idx+3].permute(1, 2, 0),\n",
    "    ], dim=1)\n",
    "    plt.imshow(v)\n",
    "    plt.show()"
   ]
  },
  {
   "cell_type": "code",
   "execution_count": null,
   "metadata": {},
   "outputs": [],
   "source": [
    "resnet_output_np = torch.stack(resnet_output_list[:10000], dim=0).cpu().numpy()\n",
    "kmeans = KMeans(n_clusters=1000, random_state=0).fit(resnet_output_np)"
   ]
  },
  {
   "cell_type": "code",
   "execution_count": null,
   "metadata": {},
   "outputs": [],
   "source": [
    "cnt_kmeans = Counter()\n",
    "len(kmeans.labels_)\n",
    "\n",
    "cluster2img = defaultdict(list)\n",
    "\n",
    "for idx, cluster in enumerate(kmeans.labels_):\n",
    "    cluster2img[cluster].append(original_image_list[idx])\n",
    "    cnt_kmeans[cluster] += 1\n",
    "    \n",
    "cnt_kmeans.most_common(10)"
   ]
  },
  {
   "cell_type": "code",
   "execution_count": null,
   "metadata": {
    "scrolled": false
   },
   "outputs": [],
   "source": [
    "msg = 75\n",
    "images_kmeans = random.sample(cluster2img[msg], 30)\n",
    "\n",
    "for img_idx in range(0, len(images_kmeans), 3):\n",
    "    v = torch.cat([\n",
    "        images_kmeans[img_idx].permute(1, 2, 0),\n",
    "        images_kmeans[img_idx+1].permute(1, 2, 0),\n",
    "        images_kmeans[img_idx+2].permute(1, 2, 0),\n",
    "    ], dim=1)\n",
    "    plt.imshow(v)\n",
    "    plt.show()"
   ]
  }
 ],
 "metadata": {
  "kernelspec": {
   "display_name": "Python 3",
   "language": "python",
   "name": "python3"
  },
  "language_info": {
   "codemirror_mode": {
    "name": "ipython",
    "version": 3
   },
   "file_extension": ".py",
   "mimetype": "text/x-python",
   "name": "python",
   "nbconvert_exporter": "python",
   "pygments_lexer": "ipython3",
   "version": "3.7.6"
  }
 },
 "nbformat": 4,
 "nbformat_minor": 4
}
