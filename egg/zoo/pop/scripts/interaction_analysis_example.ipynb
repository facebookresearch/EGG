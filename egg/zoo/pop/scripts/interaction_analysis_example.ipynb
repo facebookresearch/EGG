{
 "cells": [
  {
   "cell_type": "markdown",
   "metadata": {},
   "source": [
    "# agent interaction analysis\n",
    "## Step by step"
   ]
  },
  {
   "cell_type": "code",
   "execution_count": 30,
   "metadata": {},
   "outputs": [],
   "source": [
    "# Imports\n",
    "import pandas as pd\n",
    "from egg.core.interaction import Interaction\n",
    "import torch\n",
    "import os\n",
    "from egg.zoo.pop.data import get_dataloader\n"
   ]
  },
  {
   "cell_type": "code",
   "execution_count": 86,
   "metadata": {},
   "outputs": [
    {
     "name": "stdout",
     "output_type": "stream",
     "text": [
      "Interaction(sender_input=None, receiver_input=None, labels=tensor([95, 42, 52,  ..., 18, 11, 15]), aux_input={'sender_idx': tensor([0, 0, 0,  ..., 3, 3, 3], dtype=torch.int32), 'recv_idx': tensor([0, 0, 0,  ..., 3, 3, 3], dtype=torch.int32), 'loss_idx': tensor([0, 0, 0,  ..., 0, 0, 0], dtype=torch.int32), 'batch_number': tensor([  0,   1,   2,  ..., 445, 446, 447]), 'receiver_message_embedding': tensor([[ 0.3091, -0.1914, -0.7437,  ...,  0.7246, -0.5914, -0.7750],\n",
      "        [-0.4310,  0.3435, -0.4050,  ..., -0.7247, -0.8865, -0.5843],\n",
      "        [ 0.2074,  0.3693, -0.6333,  ...,  1.7672, -0.5118, -0.0447],\n",
      "        ...,\n",
      "        [-0.2625,  0.5994, -0.3065,  ..., -0.4355,  0.2395, -0.0469],\n",
      "        [-0.0157, -1.1385, -0.2457,  ...,  0.7482, -0.2246,  0.0662],\n",
      "        [-0.2917, -0.4505, -0.5480,  ..., -0.0030, -0.3964,  0.7792]])}, message=tensor([215, 148,  18,  ...,  65,  52, 425]), receiver_output=tensor([[ 2.1123,  0.3635, -0.0126,  ...,  0.8375,  1.1479, -0.4033],\n",
      "        [-1.1319,  2.3861, -1.2223,  ..., -0.1613, -0.5370, -0.9507],\n",
      "        [-0.0455, -1.2513,  2.5062,  ...,  0.1635, -0.6515,  2.3694],\n",
      "        ...,\n",
      "        [ 0.0620,  0.0730, -0.6968,  ...,  0.8522, -0.2634,  0.7639],\n",
      "        [-0.4975, -0.2954, -0.4072,  ...,  0.2031,  3.3333,  2.1773],\n",
      "        [-0.3594, -0.7858, -0.4193,  ...,  1.6509,  1.1808,  2.5024]]), message_length=None, aux={'acc': tensor([0., 0., 1.,  ..., 0., 1., 1.])})\n"
     ]
    }
   ],
   "source": [
    "# Path to your interaction file\n",
    "path_to_interaction = \"D:\\\\alpha\\\\EGG\\\\interactions\"\n",
    "# path_to_interaction = \"C:\\\\Users\\\\mateo\\\\Desktop\\\\interactions\"\n",
    "\n",
    "inter = torch.load(path_to_interaction)\n",
    "# print(inter)"
   ]
  },
  {
   "cell_type": "code",
   "execution_count": 70,
   "metadata": {},
   "outputs": [],
   "source": [
    "def interaction_to_dataframe(interaction):\n",
    "    \"\"\"\n",
    "    Function to turn the Interaction file into a pandas DataFrame which is covered with syntaxic sugar so easy to use\n",
    "    \"\"\"\n",
    "    df = pd.DataFrame()\n",
    "    # skipped as is empty in the emecom_pop case\n",
    "    # df[\"sender_input\"] = interaction.sender_input\n",
    "    # df[\"receiver_input\"] = interaction.receiver_input\n",
    "    df[\"labels\"] = interaction.labels\n",
    "    # df[\"recv_idx\"] = interaction.aux_input[\"recv_idx\"]\n",
    "    # df[\"loss_idx\"] = interaction.aux_input[\"loss_idx\"]\n",
    "    # df[\"batch_number\"] = interaction.aux_input[\"batch_number\"]\n",
    "    for key in interaction.aux_input:\n",
    "        if key != \"receiver_message_embedding\":\n",
    "            df[key] = interaction.aux_input[key]\n",
    "    df[\"message\"] = interaction.message\n",
    "    # df[\"receiver_output\"] = interaction.receiver_output\n",
    "    # df[\"message_length \"] = interaction.message_length # don't think this one matters\n",
    "\n",
    "    return df"
   ]
  },
  {
   "cell_type": "code",
   "execution_count": 75,
   "metadata": {},
   "outputs": [
    {
     "name": "stdout",
     "output_type": "stream",
     "text": [
      "      labels  sender_idx  recv_idx  loss_idx  batch_number  message\n",
      "1720      20           0         3         0           376      118\n",
      "4473      58           2         1         0           441      248\n",
      "502       66           0         1         0            54      196\n",
      "3562      72           1         3         0           426       23\n",
      "3264      10           1         3         0           128      320\n",
      "7113      36           3         3         0           393      443\n",
      "5136      66           2         3         0           208       19\n",
      "5272      84           2         3         0           344      234\n",
      "5227      73           2         3         0           299      464\n",
      "4831      90           2         2         0           351      388\n"
     ]
    }
   ],
   "source": [
    "df_inter = interaction_to_dataframe(inter)\n",
    "print(df_inter.sample(10))"
   ]
  },
  {
   "cell_type": "code",
   "execution_count": 88,
   "metadata": {},
   "outputs": [
    {
     "name": "stdout",
     "output_type": "stream",
     "text": [
      "      labels  sender_idx  recv_idx  loss_idx  batch_number  message\n",
      "1289      75           0         2         0           393       47\n",
      "1206      71           0         2         0           310      340\n",
      "1755      64           0         3         0           411      483\n",
      "435       44           0         0         0           435      267\n",
      "1782      27           0         3         0           438      283\n",
      "1133      75           0         2         0           237      247\n",
      "395       26           0         0         0           395      282\n",
      "1088      56           0         2         0           192      181\n",
      "1471      97           0         3         0           127       19\n",
      "1550       5           0         3         0           206      474\n"
     ]
    }
   ],
   "source": [
    "# messages uttered by a certain sender :\n",
    "# first we get all the lines corresponding to a certain sender\n",
    "chosen_sender_index = 0\n",
    "selectedsender_interactions = df_inter[df_inter[\"sender_idx\"] == chosen_sender_index]\n",
    "print(selectedsender_interactions.sample(10))\n"
   ]
  },
  {
   "cell_type": "code",
   "execution_count": null,
   "metadata": {},
   "outputs": [],
   "source": [
    "# then extract only messages :\n",
    "print(f\"\\n --- Messages for sender {chosen_sender_index} --- \\n\")\n",
    "print(selectedsender_interactions[\"message\"].sample(10))"
   ]
  },
  {
   "cell_type": "code",
   "execution_count": null,
   "metadata": {},
   "outputs": [],
   "source": [
    "# given sender's labels or 'gold' positions\n",
    "print(f\"\\n --- labels for sender {chosen_sender_index} --- \\n\")\n",
    "print(selectedsender_interactions[\"labels\"].sample(10))"
   ]
  },
  {
   "cell_type": "code",
   "execution_count": null,
   "metadata": {},
   "outputs": [],
   "source": [
    "# given sender's selected positions\n",
    "print(f\"\\n --- chosen positions for sender {chosen_sender_index} --- \\n\")\n",
    "print(\"WIP missing from data\")"
   ]
  },
  {
   "cell_type": "code",
   "execution_count": null,
   "metadata": {},
   "outputs": [],
   "source": [
    "# Now that we want to look at the images specifically, lets load them\n",
    "val_loader, _ = get_dataloader(\n",
    "        dataset_dir='D:\\\\alpha\\\\data\\\\EGG',\n",
    "        dataset_name='cifar100',\n",
    "        image_size=384,\n",
    "        batch_size=64,\n",
    "        num_workers=2,\n",
    "        is_distributed=False,\n",
    "        seed=111,  # same as hardcoded version used in experiments\n",
    "        use_augmentations=False,\n",
    "        return_original_image=False,\n",
    "        split_set=True,\n",
    "    )"
   ]
  }
 ],
 "metadata": {
  "interpreter": {
   "hash": "48001879af2d2243b5469ebda0e0976a68d9999f817ed7c72a760b9a243c23ee"
  },
  "kernelspec": {
   "display_name": "Python 3.9.7 ('bored_egg')",
   "language": "python",
   "name": "python3"
  },
  "language_info": {
   "codemirror_mode": {
    "name": "ipython",
    "version": 3
   },
   "file_extension": ".py",
   "mimetype": "text/x-python",
   "name": "python",
   "nbconvert_exporter": "python",
   "pygments_lexer": "ipython3",
   "version": "3.9.12"
  },
  "orig_nbformat": 4
 },
 "nbformat": 4,
 "nbformat_minor": 2
}
