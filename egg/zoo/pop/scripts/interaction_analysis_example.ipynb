{
 "cells": [
  {
   "cell_type": "markdown",
   "metadata": {},
   "source": [
    "# agent interaction analysis\n",
    "## Step by step"
   ]
  },
  {
   "cell_type": "code",
   "execution_count": null,
   "metadata": {},
   "outputs": [],
   "source": []
  },
  {
   "cell_type": "code",
   "execution_count": 2,
   "metadata": {},
   "outputs": [],
   "source": [
    "# Imports\n",
    "import pandas as pd\n",
    "# from egg.core.interaction import Interaction\n",
    "import torch"
   ]
  },
  {
   "cell_type": "code",
   "execution_count": 2,
   "metadata": {},
   "outputs": [],
   "source": [
    "# Path to your interaction file\n",
    "path_to_interaction = \"D:\\\\alpha\\\\EGG\\\\interactions\"\n",
    "inter = torch.load(path_to_interaction)\n",
    "# print(inter)"
   ]
  },
  {
   "cell_type": "code",
   "execution_count": 10,
   "metadata": {},
   "outputs": [],
   "source": [
    "def interaction_to_dataframe(interaction):\n",
    "    \"\"\"\n",
    "    Function to turn the Interaction file into a pandas DataFrame which is covered with syntaxic sugar so easy to use\n",
    "    \"\"\"\n",
    "    df = pd.DataFrame()\n",
    "    # skipped as is empty in the emecom_pop case\n",
    "    # df[\"sender_input\"] = interaction.sender_input\n",
    "    # df[\"receiver_input\"] = interaction.receiver_input\n",
    "    df[\"labels\"] = interaction.labels\n",
    "    for key in interaction.aux_input:\n",
    "        if key != \"receiver_message_embedding\":\n",
    "            df[key] = interaction.aux_input[key]\n",
    "    df[\"message\"] = interaction.message\n",
    "    df[\"receiver_output\"] = [i.argmax().item() for i in interaction.receiver_output]\n",
    "    # df[\"message_length \"] = interaction.message_length # I don't think this one matters to us\n",
    "\n",
    "    return df"
   ]
  },
  {
   "cell_type": "code",
   "execution_count": 11,
   "metadata": {},
   "outputs": [
    {
     "name": "stdout",
     "output_type": "stream",
     "text": [
      "      labels  sender_idx  recv_idx  loss_idx  batch_number  message  \\\n",
      "3259       3           1         3         0           123      361   \n",
      "6802      87           3         3         0            82      483   \n",
      "2005      99           1         0         0           213      106   \n",
      "6468      52           3         2         0           196      177   \n",
      "3274      49           1         3         0           138      452   \n",
      "7001      85           3         3         0           281      390   \n",
      "4680      39           2         2         0           200      451   \n",
      "7165      18           3         3         0           445       65   \n",
      "6574      76           3         2         0           302      261   \n",
      "3807      15           2         0         0           223      181   \n",
      "\n",
      "      receiver_output  \n",
      "3259               24  \n",
      "6802               18  \n",
      "2005               21  \n",
      "6468               27  \n",
      "3274               33  \n",
      "7001               25  \n",
      "4680               56  \n",
      "7165                8  \n",
      "6574               46  \n",
      "3807               12  \n"
     ]
    }
   ],
   "source": [
    "df_inter = interaction_to_dataframe(inter)\n",
    "# quick overview of what the dataframe looks like\n",
    "# .sample(10) randomly selects 10 elements from the list to show \n",
    "print(df_inter.sample(10))"
   ]
  },
  {
   "cell_type": "code",
   "execution_count": 12,
   "metadata": {},
   "outputs": [
    {
     "name": "stdout",
     "output_type": "stream",
     "text": [
      "      labels  sender_idx  recv_idx  loss_idx  batch_number  message  \\\n",
      "226       59           0         0         0           226      465   \n",
      "40        19           0         0         0            40      231   \n",
      "1182      27           0         2         0           286       47   \n",
      "1668      59           0         3         0           324      134   \n",
      "535       17           0         1         0            87      332   \n",
      "380       89           0         0         0           380      271   \n",
      "1319      34           0         2         0           423      126   \n",
      "301       60           0         0         0           301      346   \n",
      "272        1           0         0         0           272      400   \n",
      "1672      98           0         3         0           328      106   \n",
      "\n",
      "      receiver_output  \n",
      "226                34  \n",
      "40                 40  \n",
      "1182               32  \n",
      "1668                4  \n",
      "535                38  \n",
      "380                60  \n",
      "1319               39  \n",
      "301                45  \n",
      "272                16  \n",
      "1672               58  \n"
     ]
    }
   ],
   "source": [
    "# messages uttered by a certain sender :\n",
    "# first we get all the lines corresponding to a certain sender\n",
    "chosen_sender_index = 0\n",
    "selectedsender_interactions = df_inter[df_inter[\"sender_idx\"] == chosen_sender_index]\n",
    "print(selectedsender_interactions.sample(10))\n"
   ]
  },
  {
   "cell_type": "code",
   "execution_count": 6,
   "metadata": {},
   "outputs": [
    {
     "name": "stdout",
     "output_type": "stream",
     "text": [
      "\n",
      " --- Messages for sender 0 --- \n",
      "\n",
      "1600    207\n",
      "592     396\n",
      "324     494\n",
      "926     497\n",
      "450     401\n",
      "221     452\n",
      "1584    315\n",
      "1141    384\n",
      "215     470\n",
      "1348    421\n",
      "Name: message, dtype: int64\n"
     ]
    }
   ],
   "source": [
    "# then extract only messages :\n",
    "print(f\"\\n --- Messages for sender {chosen_sender_index} --- \\n\")\n",
    "print(selectedsender_interactions[\"message\"].sample(10))"
   ]
  },
  {
   "cell_type": "code",
   "execution_count": 7,
   "metadata": {},
   "outputs": [
    {
     "name": "stdout",
     "output_type": "stream",
     "text": [
      "\n",
      " --- labels for sender 0 --- \n",
      "\n",
      "1386    61\n",
      "615      7\n",
      "1271    33\n",
      "1393    87\n",
      "928     17\n",
      "573     35\n",
      "313     13\n",
      "876     70\n",
      "765      9\n",
      "453     71\n",
      "Name: labels, dtype: int64\n"
     ]
    }
   ],
   "source": [
    "# given sender's labels or 'gold' positions\n",
    "print(f\"\\n --- labels for sender {chosen_sender_index} --- \\n\")\n",
    "print(selectedsender_interactions[\"labels\"].sample(10))"
   ]
  },
  {
   "cell_type": "code",
   "execution_count": 8,
   "metadata": {},
   "outputs": [
    {
     "name": "stdout",
     "output_type": "stream",
     "text": [
      "\n",
      " --- chosen positions for sender 0 --- \n",
      "\n",
      "WIP missing from data\n"
     ]
    }
   ],
   "source": [
    "# given receiver's selected positions\n",
    "print(f\"\\n --- chosen positions for sender {chosen_sender_index} --- \\n\")\n",
    "print(selectedsender_interactions[\"receiver_output\"].sample(10))"
   ]
  },
  {
   "cell_type": "code",
   "execution_count": 9,
   "metadata": {},
   "outputs": [],
   "source": [
    "# # Now that we want to look at the images specifically, lets load them\n",
    "# val_loader, _ = get_dataloader(\n",
    "#         dataset_dir='D:\\\\alpha\\\\data\\\\EGG',\n",
    "#         dataset_name='cifar100',\n",
    "#         image_size=384,\n",
    "#         batch_size=64,\n",
    "#         num_workers=2,\n",
    "#         is_distributed=False,\n",
    "#         seed=111,  # same as hardcoded version used in experiments\n",
    "#         use_augmentations=False,\n",
    "#         return_original_image=False,\n",
    "#         split_set=True,\n",
    "#     )"
   ]
  }
 ],
 "metadata": {
  "kernelspec": {
   "display_name": "Python 3.10.4 ('quiche')",
   "language": "python",
   "name": "python3"
  },
  "language_info": {
   "codemirror_mode": {
    "name": "ipython",
    "version": 3
   },
   "file_extension": ".py",
   "mimetype": "text/x-python",
   "name": "python",
   "nbconvert_exporter": "python",
   "pygments_lexer": "ipython3",
   "version": "3.9.12"
  },
  "orig_nbformat": 4,
  "vscode": {
   "interpreter": {
    "hash": "324ce7a7d0b9f048f255dc75f437f5fcda6683ab9365148987b681d9b390c71e"
   }
  }
 },
 "nbformat": 4,
 "nbformat_minor": 2
}
