{
 "cells": [
  {
   "cell_type": "markdown",
   "metadata": {},
   "source": [
    "# Agent interaction analysis\n",
    "## Step by step data extraction"
   ]
  },
  {
   "cell_type": "code",
   "execution_count": 2,
   "metadata": {},
   "outputs": [],
   "source": [
    "# Imports\n",
    "import pandas as pd\n",
    "# from egg.core.interaction import Interaction\n",
    "import torch\n",
    "from sklearn.decomposition import PCA\n",
    "from pathlib import Path\n",
    "from matplotlib import pyplot as plt\n",
    "from egg.zoo.pop.scripts.analysis_tools.analysis import interaction_to_dataframe, name_to_idx, extract_name\n",
    "import seaborn as sns\n",
    "# used in a later part of the script :\n",
    "# import numpy as np\n",
    "import scipy"
   ]
  },
  {
   "cell_type": "code",
   "execution_count": 3,
   "metadata": {},
   "outputs": [
    {
     "name": "stdout",
     "output_type": "stream",
     "text": [
      "[\"None['vgg11']['vgg11']\", \"None['vgg11']['vit']\", \"None['vgg11']['resnet152']\", \"None['vgg11']['inception']\", \"None['vit']['vgg11']\", \"None['vit']['vit']\", \"None['vit']['resnet152']\", \"None['vit']['inception']\", \"None['resnet152']['vgg11']\", \"None['resnet152']['vit']\", \"None['resnet152']['resnet152']\", \"None['resnet152']['inception']\", \"None['inception']['vgg11']\", \"None['inception']['vit']\", \"None['inception']['resnet152']\", \"None['inception']['inception']\", 'fullpop']\n"
     ]
    }
   ],
   "source": [
    "# Path to your interaction files\n",
    "base_path = Path(\"/Users/u203445/Documents/projects/EGG/interactions\")\n",
    "\n",
    "# 1st file is a full population playing the Lazaridou communication game\n",
    "# 2nd file is the full population trained normally but tested on a game where both target and distractor go through augmentations\n",
    "# 3rd file is a vgg-vgg pair with augmentations only on the distractors (target is the same as it was during training)\n",
    "# 4th file is a vgg-vgg pair with augmentations on target and distractors\n",
    "# interaction_files = [\"cont_interactions_2\",\"cont_interactions_aug\",\"vgg_distaugment_interactions\",\"vgg_allaugment_interactions\", \"noisy_channel\", \"separate_aug\"]\n",
    "# interaction_files = [\n",
    "    # \"./noisy_channel_0.1\", \n",
    "#     \"./noisy_channel_0.5\", \n",
    "# ]\n",
    "models = ['vgg11','vit','resnet152', 'inception']\n",
    "interaction_files = [f\"None['{model1}']['{model2}']\" for model1 in models for model2 in models]\n",
    "interaction_files.append(\"fullpop\")\n",
    "print(interaction_files)\n",
    "inters = [torch.load(base_path / file) for file in interaction_files]\n",
    "df_inters = [interaction_to_dataframe(inter) for inter in inters] # <-- put interactions into dataframes which are easy to handle \n",
    "# print(\"available information in dataframe : \\n\", df_inters[0].columns)\n",
    "\n"
   ]
  },
  {
   "cell_type": "code",
   "execution_count": 3,
   "metadata": {},
   "outputs": [],
   "source": [
    "# if we want to work from a csv file instead\n",
    "# for i,df_inter in enumerate(df_inters):\n",
    "#     print(df_inter.to_csv(base_path / (interaction_files[i] + \".csv\")))"
   ]
  },
  {
   "cell_type": "markdown",
   "metadata": {},
   "source": [
    "### A few numbers to explain the data"
   ]
  },
  {
   "cell_type": "code",
   "execution_count": 4,
   "metadata": {},
   "outputs": [
    {
     "name": "stdout",
     "output_type": "stream",
     "text": [
      "0 - 0 accuracy = 0.9998444167852063\n",
      "0 - 1 accuracy = 0.9806410028449503\n",
      "0 - 2 accuracy = 0.997599573257468\n",
      "0 - 3 accuracy = 0.9903760668563301\n",
      "1 - 0 accuracy = 0.9845750355618776\n",
      "1 - 1 accuracy = 0.9997332859174964\n",
      "1 - 2 accuracy = 0.9923764224751067\n",
      "1 - 3 accuracy = 0.971750533428165\n",
      "2 - 0 accuracy = 0.9993332147937412\n",
      "2 - 1 accuracy = 0.9920652560455192\n",
      "2 - 2 accuracy = 1.0\n",
      "2 - 3 accuracy = 0.9985997510668563\n",
      "3 - 0 accuracy = 0.9931987908961594\n",
      "3 - 1 accuracy = 0.954903093883357\n",
      "3 - 2 accuracy = 0.9956881223328592\n",
      "3 - 3 accuracy = 0.9993109886201992\n",
      "---------- fullpop ----------\n",
      "average accuracy = 0.9748096955128205\n",
      "4 sender, 4 receivers\n",
      "0 - 0 accuracy = 1.0\n",
      "0 - 1 accuracy = 0.9621394230769231\n",
      "0 - 2 accuracy = 0.9921875\n",
      "0 - 3 accuracy = 0.9603365384615384\n",
      "1 - 0 accuracy = 0.9385016025641025\n",
      "1 - 1 accuracy = 1.0\n",
      "1 - 2 accuracy = 0.9767628205128205\n",
      "1 - 3 accuracy = 0.9160657051282052\n",
      "2 - 0 accuracy = 0.9923878205128205\n",
      "2 - 1 accuracy = 0.9867788461538461\n",
      "2 - 2 accuracy = 1.0\n",
      "2 - 3 accuracy = 0.9877804487179487\n",
      "3 - 0 accuracy = 0.9613381410256411\n",
      "3 - 1 accuracy = 0.9381009615384616\n",
      "3 - 2 accuracy = 0.9845753205128205\n",
      "3 - 3 accuracy = 1.0\n"
     ]
    },
    {
     "name": "stderr",
     "output_type": "stream",
     "text": [
      "C:\\Users\\u203445\\AppData\\Local\\Temp\\ipykernel_4088\\1315138384.py:12: UserWarning: Boolean Series key will be reindexed to match DataFrame index.\n",
      "  select_inters = df_inter[df_inter.sender_idx == sidx][df_inter.recv_idx == ridx]\n"
     ]
    }
   ],
   "source": [
    "indexed_printing = True # UI : if set to false, file names are used instead of indices\n",
    "\n",
    "# check performance scores :\n",
    "for i, df_inter in enumerate(df_inters):\n",
    "    acc = (df_inter.batch_number % 64 == df_inter.receiver_output).mean().item()\n",
    "    if df_inter.sender_idx.nunique() != 1 and df_inter.recv_idx.nunique() != 1:\n",
    "        print(f\"---------- {interaction_files[i]} ----------\")\n",
    "        print(f\"average accuracy = {acc}\")\n",
    "        print(f\"{df_inter.sender_idx.nunique()} sender, {df_inter.recv_idx.nunique()} receivers\")\n",
    "        for sidx in range(df_inter.sender_idx.nunique()):\n",
    "            for ridx in range(df_inter.recv_idx.nunique()):\n",
    "                select_inters = df_inter[df_inter.sender_idx == sidx][df_inter.recv_idx == ridx]\n",
    "                _acc = (select_inters.batch_number % 64 == select_inters.receiver_output).mean().item()\n",
    "                print(f\"{sidx} - {ridx} accuracy = {_acc}\")\n",
    "    else :\n",
    "        _indexes = [name_to_idx(name) for name in extract_name(interaction_files[i])]\n",
    "        print(f\"{_indexes[0]} - {_indexes[1]} accuracy = {acc}\" if indexed_printing else f\"{interaction_files[i]}  accuracy = {acc}\")\n",
    "\n",
    "    # print(df_inter.sample())"
   ]
  },
  {
   "cell_type": "code",
   "execution_count": 5,
   "metadata": {},
   "outputs": [
    {
     "name": "stdout",
     "output_type": "stream",
     "text": [
      "[0.9998444167852063, 0.9806410028449503, 0.997599573257468, 0.9903760668563301, 0.9845750355618776, 0.9997332859174964, 0.9923764224751067, 0.971750533428165, 0.9993332147937412, 0.9920652560455192, 1.0, 0.9985997510668563, 0.9931987908961594, 0.954903093883357, 0.9956881223328592, 0.9993109886201992] [1.0, 0.9621394230769231, 0.9921875, 0.9603365384615384, 0.9385016025641025, 1.0, 0.9767628205128205, 0.9160657051282052, 0.9923878205128205, 0.9867788461538461, 1.0, 0.9877804487179487, 0.9613381410256411, 0.9381009615384616, 0.9845753205128205, 1.0]\n",
      "PASSED 3\n",
      "Wilcoxon : WilcoxonResult(statistic=6.0, pvalue=0.002162232660801692)\n",
      "Wilcoxon (a<b): WilcoxonResult(statistic=114.0, pvalue=0.9989188836695991)\n",
      "Fischer : Ttest_relResult(statistic=3.7129709973503604, pvalue=0.00208301384245938)\n",
      "Fischer (a<b): Ttest_relResult(statistic=3.7129709973503604, pvalue=0.9989584930787703)\n"
     ]
    },
    {
     "name": "stderr",
     "output_type": "stream",
     "text": [
      "C:\\Users\\u203445\\AppData\\Local\\Temp\\ipykernel_4088\\1038352076.py:24: UserWarning: Boolean Series key will be reindexed to match DataFrame index.\n",
      "  selected_inters = pop_inters[pop_inters.sender_idx == sidx][pop_inters.recv_idx == ridx]\n",
      "c:\\Users\\u203445\\Miniconda3\\envs\\quiche\\lib\\site-packages\\scipy\\stats\\_morestats.py:3145: UserWarning: Exact p-value calculation does not work if there are ties. Switching to normal approximation.\n",
      "  warnings.warn(\"Exact p-value calculation does not work if there are \"\n"
     ]
    }
   ],
   "source": [
    "# Is there a significant difference between one on one and population communication ?\n",
    "# Is there a difference between homogeneous and heterogeneous populations ?\n",
    "\n",
    "# get 1 - 1 accuracies\n",
    "a = []\n",
    "rs_pairs = []\n",
    "pop_inters = pd.DataFrame()\n",
    "for i, df_inter in enumerate(df_inters):\n",
    "    if df_inter.sender_idx.nunique() == 1 and df_inter.recv_idx.nunique() == 1:\n",
    "        # get index\n",
    "        sidx = name_to_idx(extract_name(interaction_files[i])[0])\n",
    "        ridx = name_to_idx(extract_name(interaction_files[i])[1])\n",
    "        rs_pairs.append((sidx, ridx))\n",
    "        \n",
    "        _a_acc = (df_inter.batch_number % 64 == df_inter.receiver_output).mean().item()\n",
    "        a.append(_a_acc)\n",
    "    else :\n",
    "        # use this pass to get the population interaction file from the bunch\n",
    "        pop_inters = df_inter\n",
    "\n",
    "b=[]\n",
    "# get pop accuracy\n",
    "for sidx, ridx in rs_pairs:\n",
    "    selected_inters = pop_inters[pop_inters.sender_idx == sidx][pop_inters.recv_idx == ridx]\n",
    "    _b_acc = (selected_inters.batch_number % 64 == selected_inters.receiver_output).mean()\n",
    "    b.append(_b_acc)\n",
    "\n",
    "\n",
    "a = [_val for i,_val in enumerate(a) if not pd.isnull(b)[i]]\n",
    "b = [_val for _val in b if not pd.isnull(_val)]\n",
    "print(a,b)\n",
    "print(\"PASSED 3\")\n",
    "\n",
    "# paired wilcoxon : no proof of normal distribution\n",
    "print(\"Wilcoxon :\", scipy.stats.wilcoxon(a,b)) # a is less than b\n",
    "print(\"Wilcoxon (a<b):\", scipy.stats.wilcoxon(a,b, alternative=\"less\")) # a is less than b\n",
    "\n",
    "# paired fischer : normal distribution\n",
    "print(\"Fischer :\", scipy.stats.ttest_rel(a,b))\n",
    "print(\"Fischer (a<b):\", scipy.stats.ttest_rel(a,b, alternative=\"less\"))"
   ]
  },
  {
   "cell_type": "code",
   "execution_count": 6,
   "metadata": {},
   "outputs": [
    {
     "name": "stdout",
     "output_type": "stream",
     "text": [
      "0 1\n",
      "0 2\n",
      "0 3\n"
     ]
    },
    {
     "data": {
      "image/png": "[encoded data removed]",
      "text/plain": [
       "<Figure size 432x288 with 1 Axes>"
      ]
     },
     "metadata": {
      "needs_background": "light"
     },
     "output_type": "display_data"
    },
    {
     "name": "stdout",
     "output_type": "stream",
     "text": [
      "1 0\n",
      "1 2\n",
      "1 3\n"
     ]
    },
    {
     "data": {
      "image/png": "[encoded data removed]",
      "text/plain": [
       "<Figure size 432x288 with 1 Axes>"
      ]
     },
     "metadata": {
      "needs_background": "light"
     },
     "output_type": "display_data"
    },
    {
     "name": "stdout",
     "output_type": "stream",
     "text": [
      "2 0\n",
      "2 1\n",
      "2 3\n"
     ]
    },
    {
     "data": {
      "image/png": "[encoded data removed]",
      "text/plain": [
       "<Figure size 432x288 with 1 Axes>"
      ]
     },
     "metadata": {
      "needs_background": "light"
     },
     "output_type": "display_data"
    },
    {
     "name": "stdout",
     "output_type": "stream",
     "text": [
      "3 0\n",
      "3 1\n",
      "3 2\n"
     ]
    },
    {
     "data": {
      "image/png": "[encoded data removed]",
      "text/plain": [
       "<Figure size 432x288 with 1 Axes>"
      ]
     },
     "metadata": {
      "needs_background": "light"
     },
     "output_type": "display_data"
    }
   ],
   "source": [
    "# given the same image, how different are the messages given by different senders\n",
    "def euler_distance(a,b):\n",
    "    # euler distance\n",
    "    s = (a.loc[:,a.columns.str.contains('dim')].reset_index() - b.loc[:,b.columns.str.contains('dim')].reset_index())**2\n",
    "    return s.sum(axis=1)**0.5\n",
    "\n",
    "def cosine_distance(a,b):\n",
    "    # cosine distance\n",
    "    cos_dis = []\n",
    "    a_dim = a.loc[:,a.columns.str.contains('dim')].reset_index()\n",
    "    b_dim = b.loc[:,b.columns.str.contains('dim')].reset_index()\n",
    "    cos_dis = 1 - torch.nn.functional.cosine_similarity(torch.Tensor(a_dim.values), torch.Tensor(b_dim.values))\n",
    "    return cos_dis\n",
    "\n",
    "\n",
    "# display distances\n",
    "for i,df_inter in enumerate(df_inters):\n",
    "    for idx1 in range(4): # TODO : change to all available different senders\n",
    "        df_distances = pd.DataFrame(columns=[\"distance\",\"idx1\",\"idx2\"])\n",
    "        for idx2 in range(4): # TODO : change to all available different senders\n",
    "            a = df_inter[df_inter.sender_idx == idx1]\n",
    "            b = df_inter[df_inter.sender_idx == idx2]\n",
    "            if idx1 != idx2 and not (len(a) == 0 or  len(b) == 0):\n",
    "                print(idx1,idx2)\n",
    "                _dist=cosine_distance(a,b)\n",
    "                _new_df_dist = pd.DataFrame({\"distance\":_dist, \"idx1\":idx1, \"idx2\":idx2})\n",
    "                df_distances = pd.concat([df_distances,_new_df_dist])\n",
    "        if(len(df_distances.distance)!=0):\n",
    "            sns.boxplot(y=df_distances.distance,x=df_distances.idx1, hue=df_distances.idx2)\n",
    "            # plt.ylim(0, 2e-7) # TODO : deal with the scales\n",
    "            plt.show()"
   ]
  },
  {
   "cell_type": "markdown",
   "metadata": {},
   "source": [
    "## Diagnostic classifier"
   ]
  },
  {
   "cell_type": "code",
   "execution_count": 7,
   "metadata": {},
   "outputs": [],
   "source": [
    "import egg.zoo.pop.scripts.analysis_tools.diagnostic_classifier as dc"
   ]
  },
  {
   "cell_type": "code",
   "execution_count": 8,
   "metadata": {},
   "outputs": [
    {
     "name": "stdout",
     "output_type": "stream",
     "text": [
      "None['vgg11']['vgg11']\n"
     ]
    }
   ],
   "source": [
    "# beware, this can be slow (ex : 40s for a single file using gpu)\n",
    "for file in interaction_files:\n",
    "    print(file)\n",
    "    dc.run_dc(Path(file), n_samples=100000)"
   ]
  },
  {
   "cell_type": "markdown",
   "metadata": {},
   "source": [
    "## CLustering"
   ]
  },
  {
   "cell_type": "code",
   "execution_count": null,
   "metadata": {},
   "outputs": [],
   "source": [
    "# clustering\n",
    "from sklearn.cluster import OPTICS, cluster_optics_dbscan, KMeans\n",
    "import matplotlib.gridspec as gridspec\n",
    "import matplotlib.pyplot as plt\n",
    "import numpy as np"
   ]
  },
  {
   "cell_type": "code",
   "execution_count": null,
   "metadata": {},
   "outputs": [],
   "source": [
    "n_points_per_cluster = 250\n",
    "\n",
    "X = df_inter.loc[:,df_inter.columns.str.contains('dim')].reset_index().to_numpy()\n",
    "\n",
    "clust = OPTICS(min_samples=50, xi=0.05, min_cluster_size=0.05)\n",
    "# Run the fit\n",
    "clust.fit(X)\n",
    "\n",
    "labels_050 = cluster_optics_dbscan(\n",
    "    reachability=clust.reachability_,\n",
    "    core_distances=clust.core_distances_,\n",
    "    ordering=clust.ordering_,\n",
    "    eps=0.5,\n",
    ")\n",
    "\n",
    "labels_200 = cluster_optics_dbscan(\n",
    "    reachability=clust.reachability_,\n",
    "    core_distances=clust.core_distances_,\n",
    "    ordering=clust.ordering_,\n",
    "    eps=2,\n",
    ")\n",
    "\n",
    "space = np.arange(len(X))\n",
    "reachability = clust.reachability_[clust.ordering_]\n",
    "labels = clust.labels_[clust.ordering_]\n"
   ]
  },
  {
   "cell_type": "code",
   "execution_count": null,
   "metadata": {},
   "outputs": [],
   "source": [
    "plt.figure(figsize=(10, 7))\n",
    "G = gridspec.GridSpec(2, 3)\n",
    "ax1 = plt.subplot(G[0, :])\n",
    "ax2 = plt.subplot(G[1, 0])\n",
    "ax3 = plt.subplot(G[1, 1])\n",
    "ax4 = plt.subplot(G[1, 2])\n",
    "\n",
    "# Reachability plot\n",
    "colors = [\"g.\", \"r.\", \"b.\", \"y.\", \"c.\"]\n",
    "for klass, color in zip(range(0, 5), colors):\n",
    "    Xk = space[labels == klass]\n",
    "    Rk = reachability[labels == klass]\n",
    "    ax1.plot(Xk, Rk, color, alpha=0.3)\n",
    "ax1.plot(space[labels == -1], reachability[labels == -1], \"k.\", alpha=0.3)\n",
    "ax1.plot(space, np.full_like(space, 2.0, dtype=float), \"k-\", alpha=0.5)\n",
    "ax1.plot(space, np.full_like(space, 0.5, dtype=float), \"k-.\", alpha=0.5)\n",
    "ax1.set_ylabel(\"Reachability (epsilon distance)\")\n",
    "ax1.set_title(\"Reachability Plot\")\n",
    "\n",
    "# OPTICS\n",
    "colors = [\"g.\", \"r.\", \"b.\", \"y.\", \"c.\"]\n",
    "for klass, color in zip(range(0, 5), colors):\n",
    "    Xk = X[clust.labels_ == klass]\n",
    "    ax2.plot(Xk[:, 0], Xk[:, 1], color, alpha=0.3)\n",
    "ax2.plot(X[clust.labels_ == -1, 0], X[clust.labels_ == -1, 1], \"k+\", alpha=0.1)\n",
    "ax2.set_title(\"Automatic Clustering\\nOPTICS\")\n",
    "\n",
    "# DBSCAN at 0.5\n",
    "colors = [\"g\", \"greenyellow\", \"olive\", \"r\", \"b\", \"c\"]\n",
    "for klass, color in zip(range(0, 6), colors):\n",
    "    Xk = X[labels_050 == klass]\n",
    "    ax3.plot(Xk[:, 0], Xk[:, 1], color, alpha=0.3, marker=\".\")\n",
    "ax3.plot(X[labels_050 == -1, 0], X[labels_050 == -1, 1], \"k+\", alpha=0.1)\n",
    "ax3.set_title(\"Clustering at 0.5 epsilon cut\\nDBSCAN\")\n",
    "\n",
    "# DBSCAN at 2.\n",
    "colors = [\"g.\", \"m.\", \"y.\", \"c.\"]\n",
    "for klass, color in zip(range(0, 4), colors):\n",
    "    Xk = X[labels_200 == klass]\n",
    "    ax4.plot(Xk[:, 0], Xk[:, 1], color, alpha=0.3)\n",
    "ax4.plot(X[labels_200 == -1, 0], X[labels_200 == -1, 1], \"k+\", alpha=0.1)\n",
    "ax4.set_title(\"Clustering at 2.0 epsilon cut\\nDBSCAN\")\n",
    "\n",
    "plt.tight_layout()\n",
    "plt.show()"
   ]
  },
  {
   "cell_type": "code",
   "execution_count": null,
   "metadata": {},
   "outputs": [],
   "source": [
    "clust2 = KMeans()\n",
    "clust.fit(X)\n",
    "labels = clust.labels_[clust.ordering_]\n"
   ]
  },
  {
   "cell_type": "code",
   "execution_count": null,
   "metadata": {},
   "outputs": [],
   "source": [
    "plt.figure(figsize=(10, 7))\n",
    "G = gridspec.GridSpec(1, 1)\n",
    "ax = plt.subplot(G[0, :])\n",
    "ax.plot(space, np.full_like(space, 2.0, dtype=float), \"k.\", alpha=0.3)\n",
    "colors = [\"g.\", \"r.\", \"b.\", \"y.\", \"c.\"]\n",
    "for klass, color in zip(range(0, 5), colors):\n",
    "    Xk = X[clust.labels_ == klass]\n",
    "    ax.plot(Xk[:, 0], Xk[:, 1], color, alpha=0.3)\n",
    "ax.plot(X[clust.labels_ == -1, 0], X[clust.labels_ == -1, 1], \"k+\", alpha=0.1)\n",
    "ax.set_title(\"Automatic Clustering\\Birch\")\n",
    "plt.tight_layout()\n",
    "plt.show()"
   ]
  },
  {
   "cell_type": "markdown",
   "metadata": {},
   "source": [
    "## perturbations along dimensions"
   ]
  },
  {
   "cell_type": "code",
   "execution_count": 6,
   "metadata": {},
   "outputs": [],
   "source": [
    "from egg.zoo.pop.data import get_dataloader\n",
    "import numpy as np\n",
    "import random"
   ]
  },
  {
   "cell_type": "code",
   "execution_count": 51,
   "metadata": {},
   "outputs": [
    {
     "name": "stdout",
     "output_type": "stream",
     "text": [
      "[ Using Seed :  111  ]\n",
      "Files already downloaded and verified\n",
      "[40920, 42530, 42530, 42530, 42530, 42530, 42530, 42530, 42530, 42530, 42530, 42530, 42530, 42530, 42530, 42530, 42530, 42530, 42530, 42530, 42530, 42530, 42530, 42530, 42530, 42530, 42530, 42530, 42530, 42530, 42530, 42530, 42530, 42530, 42530, 42530, 42530, 42530, 42530, 42530, 42530, 42530, 42530, 42530, 42530, 42530, 42530, 42530, 42530, 42530, 42530, 42530, 42530, 42530, 42530, 42530, 42530, 42530, 42530, 42530, 42530, 42530, 42530, 42530, 42530, 42530, 42530, 42530, 42530, 42530, 42530, 42530, 42530, 42530, 42530, 42530, 42530, 42530, 42530, 42530, 42530, 42530, 42530, 42530, 42530, 42530, 42530, 42530, 42530, 42530, 42530, 42530, 42530, 42530, 42530, 42530, 42530, 42530, 42530, 42530]\n",
      "[24 34] [ 984 2594]\n"
     ]
    },
    {
     "ename": "KeyboardInterrupt",
     "evalue": "",
     "output_type": "error",
     "traceback": [
      "\u001b[1;31m---------------------------------------------------------------------------\u001b[0m",
      "\u001b[1;31mKeyboardInterrupt\u001b[0m                         Traceback (most recent call last)",
      "\u001b[1;32mc:\\Users\\u203445\\Documents\\projects\\EGG\\egg\\zoo\\pop\\scripts\\analysis_tools\\continuous_interaction_analysis.ipynb Cell 20\u001b[0m in \u001b[0;36m<cell line: 68>\u001b[1;34m()\u001b[0m\n\u001b[0;32m     <a href='vscode-notebook-cell:/c%3A/Users/u203445/Documents/projects/EGG/egg/zoo/pop/scripts/analysis_tools/continuous_interaction_analysis.ipynb#ch0000019?line=65'>66</a>\u001b[0m     indexes\u001b[39m.\u001b[39mappend(find_similar(message, df_inter))\n\u001b[0;32m     <a href='vscode-notebook-cell:/c%3A/Users/u203445/Documents/projects/EGG/egg/zoo/pop/scripts/analysis_tools/continuous_interaction_analysis.ipynb#ch0000019?line=66'>67</a>\u001b[0m \u001b[39mprint\u001b[39m(indexes)\n\u001b[1;32m---> <a href='vscode-notebook-cell:/c%3A/Users/u203445/Documents/projects/EGG/egg/zoo/pop/scripts/analysis_tools/continuous_interaction_analysis.ipynb#ch0000019?line=67'>68</a>\u001b[0m \u001b[39mfor\u001b[39;00m im \u001b[39min\u001b[39;00m look_at_image(indexes, df_inter, train_loader):\n\u001b[0;32m     <a href='vscode-notebook-cell:/c%3A/Users/u203445/Documents/projects/EGG/egg/zoo/pop/scripts/analysis_tools/continuous_interaction_analysis.ipynb#ch0000019?line=68'>69</a>\u001b[0m     plt\u001b[39m.\u001b[39mimshow(im) \n\u001b[0;32m     <a href='vscode-notebook-cell:/c%3A/Users/u203445/Documents/projects/EGG/egg/zoo/pop/scripts/analysis_tools/continuous_interaction_analysis.ipynb#ch0000019?line=69'>70</a>\u001b[0m     plt\u001b[39m.\u001b[39mshow()\n",
      "\u001b[1;32mc:\\Users\\u203445\\Documents\\projects\\EGG\\egg\\zoo\\pop\\scripts\\analysis_tools\\continuous_interaction_analysis.ipynb Cell 20\u001b[0m in \u001b[0;36mlook_at_image\u001b[1;34m(msg_indexes, interactions, train_loader)\u001b[0m\n\u001b[0;32m     <a href='vscode-notebook-cell:/c%3A/Users/u203445/Documents/projects/EGG/egg/zoo/pop/scripts/analysis_tools/continuous_interaction_analysis.ipynb#ch0000019?line=49'>50</a>\u001b[0m \u001b[39m# as message indexes have been ordered, we don't need to check for everytime\u001b[39;00m\n\u001b[0;32m     <a href='vscode-notebook-cell:/c%3A/Users/u203445/Documents/projects/EGG/egg/zoo/pop/scripts/analysis_tools/continuous_interaction_analysis.ipynb#ch0000019?line=50'>51</a>\u001b[0m _i \u001b[39m=\u001b[39m \u001b[39m0\u001b[39m\n\u001b[1;32m---> <a href='vscode-notebook-cell:/c%3A/Users/u203445/Documents/projects/EGG/egg/zoo/pop/scripts/analysis_tools/continuous_interaction_analysis.ipynb#ch0000019?line=51'>52</a>\u001b[0m \u001b[39mfor\u001b[39;00m batch_id, batch \u001b[39min\u001b[39;00m \u001b[39menumerate\u001b[39m(train_loader): \u001b[39m# This is the slow part, might work better with Dataset object\u001b[39;00m\n\u001b[0;32m     <a href='vscode-notebook-cell:/c%3A/Users/u203445/Documents/projects/EGG/egg/zoo/pop/scripts/analysis_tools/continuous_interaction_analysis.ipynb#ch0000019?line=52'>53</a>\u001b[0m     \u001b[39m# print(batch_id)\u001b[39;00m\n\u001b[0;32m     <a href='vscode-notebook-cell:/c%3A/Users/u203445/Documents/projects/EGG/egg/zoo/pop/scripts/analysis_tools/continuous_interaction_analysis.ipynb#ch0000019?line=53'>54</a>\u001b[0m     \u001b[39mif\u001b[39;00m batch_id \u001b[39m==\u001b[39m msg_batch[_i] \u001b[39m/\u001b[39m\u001b[39m/\u001b[39m \u001b[39m64\u001b[39m:\n\u001b[0;32m     <a href='vscode-notebook-cell:/c%3A/Users/u203445/Documents/projects/EGG/egg/zoo/pop/scripts/analysis_tools/continuous_interaction_analysis.ipynb#ch0000019?line=54'>55</a>\u001b[0m         images\u001b[39m.\u001b[39mappend(np\u001b[39m.\u001b[39mtranspose(batch[\u001b[39m2\u001b[39m][msg_rcv_output[_i]], (\u001b[39m1\u001b[39m, \u001b[39m2\u001b[39m, \u001b[39m0\u001b[39m)))\n",
      "File \u001b[1;32mc:\\Users\\u203445\\Miniconda3\\envs\\quiche\\lib\\site-packages\\torch\\utils\\data\\dataloader.py:530\u001b[0m, in \u001b[0;36m_BaseDataLoaderIter.__next__\u001b[1;34m(self)\u001b[0m\n\u001b[0;32m    528\u001b[0m \u001b[39mif\u001b[39;00m \u001b[39mself\u001b[39m\u001b[39m.\u001b[39m_sampler_iter \u001b[39mis\u001b[39;00m \u001b[39mNone\u001b[39;00m:\n\u001b[0;32m    529\u001b[0m     \u001b[39mself\u001b[39m\u001b[39m.\u001b[39m_reset()\n\u001b[1;32m--> 530\u001b[0m data \u001b[39m=\u001b[39m \u001b[39mself\u001b[39;49m\u001b[39m.\u001b[39;49m_next_data()\n\u001b[0;32m    531\u001b[0m \u001b[39mself\u001b[39m\u001b[39m.\u001b[39m_num_yielded \u001b[39m+\u001b[39m\u001b[39m=\u001b[39m \u001b[39m1\u001b[39m\n\u001b[0;32m    532\u001b[0m \u001b[39mif\u001b[39;00m \u001b[39mself\u001b[39m\u001b[39m.\u001b[39m_dataset_kind \u001b[39m==\u001b[39m _DatasetKind\u001b[39m.\u001b[39mIterable \u001b[39mand\u001b[39;00m \\\n\u001b[0;32m    533\u001b[0m         \u001b[39mself\u001b[39m\u001b[39m.\u001b[39m_IterableDataset_len_called \u001b[39mis\u001b[39;00m \u001b[39mnot\u001b[39;00m \u001b[39mNone\u001b[39;00m \u001b[39mand\u001b[39;00m \\\n\u001b[0;32m    534\u001b[0m         \u001b[39mself\u001b[39m\u001b[39m.\u001b[39m_num_yielded \u001b[39m>\u001b[39m \u001b[39mself\u001b[39m\u001b[39m.\u001b[39m_IterableDataset_len_called:\n",
      "File \u001b[1;32mc:\\Users\\u203445\\Miniconda3\\envs\\quiche\\lib\\site-packages\\torch\\utils\\data\\dataloader.py:1207\u001b[0m, in \u001b[0;36m_MultiProcessingDataLoaderIter._next_data\u001b[1;34m(self)\u001b[0m\n\u001b[0;32m   1204\u001b[0m     \u001b[39mreturn\u001b[39;00m \u001b[39mself\u001b[39m\u001b[39m.\u001b[39m_process_data(data)\n\u001b[0;32m   1206\u001b[0m \u001b[39massert\u001b[39;00m \u001b[39mnot\u001b[39;00m \u001b[39mself\u001b[39m\u001b[39m.\u001b[39m_shutdown \u001b[39mand\u001b[39;00m \u001b[39mself\u001b[39m\u001b[39m.\u001b[39m_tasks_outstanding \u001b[39m>\u001b[39m \u001b[39m0\u001b[39m\n\u001b[1;32m-> 1207\u001b[0m idx, data \u001b[39m=\u001b[39m \u001b[39mself\u001b[39;49m\u001b[39m.\u001b[39;49m_get_data()\n\u001b[0;32m   1208\u001b[0m \u001b[39mself\u001b[39m\u001b[39m.\u001b[39m_tasks_outstanding \u001b[39m-\u001b[39m\u001b[39m=\u001b[39m \u001b[39m1\u001b[39m\n\u001b[0;32m   1209\u001b[0m \u001b[39mif\u001b[39;00m \u001b[39mself\u001b[39m\u001b[39m.\u001b[39m_dataset_kind \u001b[39m==\u001b[39m _DatasetKind\u001b[39m.\u001b[39mIterable:\n\u001b[0;32m   1210\u001b[0m     \u001b[39m# Check for _IterableDatasetStopIteration\u001b[39;00m\n",
      "File \u001b[1;32mc:\\Users\\u203445\\Miniconda3\\envs\\quiche\\lib\\site-packages\\torch\\utils\\data\\dataloader.py:1163\u001b[0m, in \u001b[0;36m_MultiProcessingDataLoaderIter._get_data\u001b[1;34m(self)\u001b[0m\n\u001b[0;32m   1161\u001b[0m \u001b[39melif\u001b[39;00m \u001b[39mself\u001b[39m\u001b[39m.\u001b[39m_pin_memory:\n\u001b[0;32m   1162\u001b[0m     \u001b[39mwhile\u001b[39;00m \u001b[39mself\u001b[39m\u001b[39m.\u001b[39m_pin_memory_thread\u001b[39m.\u001b[39mis_alive():\n\u001b[1;32m-> 1163\u001b[0m         success, data \u001b[39m=\u001b[39m \u001b[39mself\u001b[39;49m\u001b[39m.\u001b[39;49m_try_get_data()\n\u001b[0;32m   1164\u001b[0m         \u001b[39mif\u001b[39;00m success:\n\u001b[0;32m   1165\u001b[0m             \u001b[39mreturn\u001b[39;00m data\n",
      "File \u001b[1;32mc:\\Users\\u203445\\Miniconda3\\envs\\quiche\\lib\\site-packages\\torch\\utils\\data\\dataloader.py:1011\u001b[0m, in \u001b[0;36m_MultiProcessingDataLoaderIter._try_get_data\u001b[1;34m(self, timeout)\u001b[0m\n\u001b[0;32m    998\u001b[0m \u001b[39mdef\u001b[39;00m \u001b[39m_try_get_data\u001b[39m(\u001b[39mself\u001b[39m, timeout\u001b[39m=\u001b[39m_utils\u001b[39m.\u001b[39mMP_STATUS_CHECK_INTERVAL):\n\u001b[0;32m    999\u001b[0m     \u001b[39m# Tries to fetch data from `self._data_queue` once for a given timeout.\u001b[39;00m\n\u001b[0;32m   1000\u001b[0m     \u001b[39m# This can also be used as inner loop of fetching without timeout, with\u001b[39;00m\n\u001b[1;32m   (...)\u001b[0m\n\u001b[0;32m   1008\u001b[0m     \u001b[39m# Returns a 2-tuple:\u001b[39;00m\n\u001b[0;32m   1009\u001b[0m     \u001b[39m#   (bool: whether successfully get data, any: data if successful else None)\u001b[39;00m\n\u001b[0;32m   1010\u001b[0m     \u001b[39mtry\u001b[39;00m:\n\u001b[1;32m-> 1011\u001b[0m         data \u001b[39m=\u001b[39m \u001b[39mself\u001b[39;49m\u001b[39m.\u001b[39;49m_data_queue\u001b[39m.\u001b[39;49mget(timeout\u001b[39m=\u001b[39;49mtimeout)\n\u001b[0;32m   1012\u001b[0m         \u001b[39mreturn\u001b[39;00m (\u001b[39mTrue\u001b[39;00m, data)\n\u001b[0;32m   1013\u001b[0m     \u001b[39mexcept\u001b[39;00m \u001b[39mException\u001b[39;00m \u001b[39mas\u001b[39;00m e:\n\u001b[0;32m   1014\u001b[0m         \u001b[39m# At timeout and error, we manually check whether any worker has\u001b[39;00m\n\u001b[0;32m   1015\u001b[0m         \u001b[39m# failed. Note that this is the only mechanism for Windows to detect\u001b[39;00m\n\u001b[0;32m   1016\u001b[0m         \u001b[39m# worker failures.\u001b[39;00m\n",
      "File \u001b[1;32mc:\\Users\\u203445\\Miniconda3\\envs\\quiche\\lib\\queue.py:180\u001b[0m, in \u001b[0;36mQueue.get\u001b[1;34m(self, block, timeout)\u001b[0m\n\u001b[0;32m    178\u001b[0m         \u001b[39mif\u001b[39;00m remaining \u001b[39m<\u001b[39m\u001b[39m=\u001b[39m \u001b[39m0.0\u001b[39m:\n\u001b[0;32m    179\u001b[0m             \u001b[39mraise\u001b[39;00m Empty\n\u001b[1;32m--> 180\u001b[0m         \u001b[39mself\u001b[39;49m\u001b[39m.\u001b[39;49mnot_empty\u001b[39m.\u001b[39;49mwait(remaining)\n\u001b[0;32m    181\u001b[0m item \u001b[39m=\u001b[39m \u001b[39mself\u001b[39m\u001b[39m.\u001b[39m_get()\n\u001b[0;32m    182\u001b[0m \u001b[39mself\u001b[39m\u001b[39m.\u001b[39mnot_full\u001b[39m.\u001b[39mnotify()\n",
      "File \u001b[1;32mc:\\Users\\u203445\\Miniconda3\\envs\\quiche\\lib\\threading.py:316\u001b[0m, in \u001b[0;36mCondition.wait\u001b[1;34m(self, timeout)\u001b[0m\n\u001b[0;32m    314\u001b[0m \u001b[39melse\u001b[39;00m:\n\u001b[0;32m    315\u001b[0m     \u001b[39mif\u001b[39;00m timeout \u001b[39m>\u001b[39m \u001b[39m0\u001b[39m:\n\u001b[1;32m--> 316\u001b[0m         gotit \u001b[39m=\u001b[39m waiter\u001b[39m.\u001b[39;49macquire(\u001b[39mTrue\u001b[39;49;00m, timeout)\n\u001b[0;32m    317\u001b[0m     \u001b[39melse\u001b[39;00m:\n\u001b[0;32m    318\u001b[0m         gotit \u001b[39m=\u001b[39m waiter\u001b[39m.\u001b[39macquire(\u001b[39mFalse\u001b[39;00m)\n",
      "\u001b[1;31mKeyboardInterrupt\u001b[0m: "
     ]
    }
   ],
   "source": [
    "# very slow\n",
    "def seed_all(seed):\n",
    "    if not seed:\n",
    "        seed = 10\n",
    "\n",
    "    print(\"[ Using Seed : \", seed, \" ]\")\n",
    "\n",
    "    torch.manual_seed(seed)\n",
    "    torch.cuda.manual_seed_all(seed)\n",
    "    torch.cuda.manual_seed(seed)\n",
    "    np.random.seed(seed)\n",
    "    random.seed(seed)\n",
    "    torch.backends.cudnn.deterministic = True\n",
    "    torch.backends.cudnn.benchmark = False\n",
    "# I have to check these images are the same as those during training, I don't trust the seeds work exactly the same\n",
    "\n",
    "seed_all(111)\n",
    "# get the dataloader\n",
    "val_loader, train_loader = get_dataloader(\n",
    "        dataset_dir=Path(\"C:\\\\Users\\\\u203445\\\\Documents\\\\projects\\\\EGG\\\\egg\\\\zoo\\\\pop\\\\data\"),\n",
    "        dataset_name=\"cifar100\",\n",
    "        image_size=384,\n",
    "        batch_size=64,\n",
    "        num_workers=1,\n",
    "        is_distributed=None,\n",
    "        seed=111,  # seed for data is hard coded. Everyone is evaluated on the same data\n",
    "        # Might cause problems for cross GPU version\n",
    "        use_augmentations=False,\n",
    "        return_original_image=False,\n",
    "        split_set=True,\n",
    "    )\n",
    "\n",
    "# write a message\n",
    "message = [1e-8] * 16\n",
    "# look for the most similar one in the interaction file (k-nearest)\n",
    "def find_similar(message, interactions):\n",
    "    _dist = 1 - torch.cdist(torch.Tensor(message), torch.Tensor(interactions.loc[:,interactions.columns.str.contains('dim')].values))\n",
    "    return _dist.argmin().item()\n",
    "\n",
    "# look at the image that was chosen in that case\n",
    "def look_at_image(msg_indexes, interactions, train_loader):\n",
    "    # get the image chosen by the receiver on the given message\n",
    "    selected_interactions = interactions.loc[msg_indexes, :].drop_duplicates()\n",
    "    selected_interactions = selected_interactions.sort_values('batch_number', ascending=True)\n",
    "    msg_rcv_output = selected_interactions['receiver_output'].values\n",
    "    msg_batch = selected_interactions['batch_number'].values\n",
    "    print(msg_rcv_output, msg_batch)\n",
    "    images = []\n",
    "\n",
    "    # as message indexes have been ordered, we don't need to check for everytime\n",
    "    _i = 0\n",
    "    for batch_id, batch in enumerate(train_loader): # This is the slow part, might work better with Dataset object\n",
    "        # print(batch_id)\n",
    "        if batch_id == msg_batch[_i] // 64:\n",
    "            images.append(np.transpose(batch[2][msg_rcv_output[_i]], (1, 2, 0)))\n",
    "            _i += 1\n",
    "            if len(images) == len(msg_batch):\n",
    "                return images\n",
    "\n",
    "# repeat after adding a distraction on chosen axis\n",
    "perturbation_axis = 15\n",
    "n_perturbations = 100\n",
    "indexes = []\n",
    "for i in range(n_perturbations):\n",
    "    message[perturbation_axis] = i / n_perturbations\n",
    "    indexes.append(find_similar(message, df_inter))\n",
    "print(indexes)\n",
    "for im in look_at_image(indexes, df_inter, train_loader):\n",
    "    plt.imshow(im) \n",
    "    plt.show()\n",
    "# eyeball the images along the chosen axis, see if something comes out of it\n"
   ]
  },
  {
   "cell_type": "code",
   "execution_count": null,
   "metadata": {},
   "outputs": [],
   "source": [
    "# perturbation accross multiple dimensions using PCA"
   ]
  },
  {
   "cell_type": "markdown",
   "metadata": {},
   "source": [
    "## Begining of a PCA analysis\n",
    "lets make an n component PCA with the scikit-learn tool, to get a visual idea of clusters and their correspondance to the pretrained 'human' classes"
   ]
  },
  {
   "cell_type": "code",
   "execution_count": null,
   "metadata": {},
   "outputs": [],
   "source": [
    "## Parameter Selection\n",
    "# select which senders and which pretraining class labels to visualise \n",
    "_chosen_sender_index = [0] # _chosen_sender_index = [0,1,2,3]\n",
    "_chosen_labels = [1, 32, 80] # _chosen_labels = [i for i in range(100)]\n",
    "# PCA parameters\n",
    "n_components=10\n",
    "# PCA dimensions to show on graph\n",
    "prin_comp_A = 1\n",
    "prin_comp_B = 2\n",
    "\n",
    "\n",
    "df_pcas = []\n",
    "fig, axes = plt.subplots(1,len(df_inters)) \n",
    "# lets get those sender specific PCAs\n",
    "for i,df_inter in enumerate(df_inters):\n",
    "    # taking only the interactions that have the matching indexes for the chosen sender and the class labels\n",
    "    selectedsender_interactions = df_inter[df_inter.sender_idx.isin(_chosen_sender_index)][df_inter.labels.isin(_chosen_labels)] \n",
    "\n",
    "    # PCA\n",
    "    pca = PCA(n_components)\n",
    "    x = selectedsender_interactions.loc[:, selectedsender_interactions.columns.str.contains('dim')]\n",
    "    principalComponents = pca.fit_transform(x)\n",
    "    df_pca = pd.DataFrame(data = principalComponents\n",
    "                , columns = [f'principal component {i+1}' for i in range(n_components)])\n",
    "    ## If we were to reuse those dimensions, this is what they look like : \n",
    "    # print(df_pca[['principal component 1','principal component 2']].sample(3))\n",
    "\n",
    "    # plotting PCA\n",
    "    sns.scatterplot(df_pca[f'principal component {prin_comp_A}'],\n",
    "        df_pca[f'principal component {prin_comp_B}'], \n",
    "        hue = selectedsender_interactions.set_index(df_pca.index).labels,\n",
    "        ax=axes[i],\n",
    "        palette='rainbow',\n",
    "    ).set_title(interaction_files[i], fontsize = 20),\n",
    "    \n",
    "    # ax.grid()"
   ]
  },
  {
   "cell_type": "markdown",
   "metadata": {},
   "source": [
    "## Some other basic things\n",
    "Looking at the message distribution for intuition of where the information is hidden"
   ]
  },
  {
   "cell_type": "code",
   "execution_count": null,
   "metadata": {},
   "outputs": [],
   "source": [
    "melted_dfs = []\n",
    "for df_inter in df_inters:\n",
    "    # Setting each dimension column as a categoric variable (called dim) of the same type (message value)\n",
    "    _melted_df = df_inter.melt([\"sender_idx\",\"loss_idx\", \"recv_idx\", \"labels\", \"receiver_output\", \"batch_number\"], var_name=\"dim\", value_name=\"message_value\")\n",
    "    _melted_df.dim.replace([f\"dim_{n}\" for n in range(16)],[n for n in range(16)], inplace=True)\n",
    "    melted_dfs.append(_melted_df)\n",
    "print(melted_dfs[0].sample(3)) # have a look here if needed "
   ]
  },
  {
   "cell_type": "markdown",
   "metadata": {},
   "source": [
    "### Message Distribution"
   ]
  },
  {
   "cell_type": "code",
   "execution_count": null,
   "metadata": {},
   "outputs": [],
   "source": [
    "\n",
    "## Parameter Selection\n",
    "# select which senders and which dimension to visualise \n",
    "_chosen_sender_index = [0,3]   # _chosen_sender_index = [0,1,2,3]\n",
    "_chosen_dimensions= [1, 3, 13] # _chosen_labels = [i for i in range(16)]\n",
    "\n",
    "sns.set(rc={'figure.figsize':(5*len(melted_dfs),10)})\n",
    "fig, axes = plt.subplots(2,len(melted_dfs)) \n",
    "\n",
    "# extract and plot\n",
    "for i,melted_df in enumerate(melted_dfs):\n",
    "    melted_df = melted_df[melted_df.sender_idx.isin(_chosen_sender_index)][melted_df.dim.isin(_chosen_dimensions)] # filtering senders\n",
    "    sns.violinplot(x=melted_df.sender_idx, y=melted_df.message_value, hue=melted_df.dim, palette=sns.color_palette(\"tab20\",16),ax=axes[0,i]).set_title(interaction_files[i])\n",
    "    sns.violinplot(x=melted_df.dim, y=melted_df.message_value, hue=melted_df.sender_idx, palette=sns.color_palette(\"tab20\",16),ax=axes[1,i])\n",
    "    \n",
    "\n",
    "# WIP : maybe add some statistical testing\n",
    "# the way the violins look allow us to know where to set the saturation point were we to discretise"
   ]
  },
  {
   "cell_type": "markdown",
   "metadata": {},
   "source": [
    "A quick look at the data distribution for messages in each dimension"
   ]
  },
  {
   "cell_type": "markdown",
   "metadata": {},
   "source": [
    "Now we check if data distribution is modified by the class of the represented image (which it should if it wants to discriminate images)"
   ]
  },
  {
   "cell_type": "code",
   "execution_count": null,
   "metadata": {},
   "outputs": [],
   "source": [
    "## Parameter Selection\n",
    "# select which senders and which classes to visualise \n",
    "_chosen_sender_idxs = [0,1,2,3]\n",
    "_chosen_labels = torch.randint(0,100,[5]) # three random labels\n",
    "_chosen_dimensions= [1, 3, 13] # _chosen_labels = [i for i in range(16)]\n",
    "\n",
    "\n",
    "sns.set(rc={'figure.figsize':(10*len(_chosen_dimensions),4*len(_chosen_labels))})\n",
    "fig, axes = plt.subplots(len(_chosen_labels),len(melted_dfs)) \n",
    "\n",
    "for i,melted_df in enumerate(melted_dfs):\n",
    "    for j, label in enumerate(_chosen_labels):\n",
    "        _df = melted_df[melted_df.labels==label.item()]\n",
    "        _df = _df[melted_df.sender_idx.isin(_chosen_sender_idxs)]\n",
    "        _df = _df[melted_df.dim.isin(_chosen_dimensions)]\n",
    "        if len(_df) != 0:\n",
    "            sns.violinplot(x=_df.dim, y=_df.message_value, hue=_df.sender_idx, ax=axes[j,i]).set_title(interaction_files[i] if j == 0 else None)\n",
    "\n",
    "# We can see variations in dimensional distribution depending on the pre-training classes. Each sender seems to encode it in a similar manner ! \n",
    "# (which can be understood as either an approximation of the actual clustering, or perhaps the beginning of an analysis of model capacities in out-of-scope contexts)\n",
    "# vit, the agent with the most different representation, is in orange (sender_idx = 1). We can see it is always using slightly different communication distributions\n",
    "# vgg (blue, idx = 0) seems to be the worst tricked by data_augmentation"
   ]
  },
  {
   "cell_type": "markdown",
   "metadata": {},
   "source": [
    "### Dimension correlation"
   ]
  },
  {
   "cell_type": "code",
   "execution_count": null,
   "metadata": {},
   "outputs": [],
   "source": [
    "# new imports, can't escape numpy\n",
    "import numpy as np"
   ]
  },
  {
   "cell_type": "code",
   "execution_count": null,
   "metadata": {},
   "outputs": [],
   "source": [
    "# Ok. Correlation between dimensions now. Are any dimensions unnecessary ?\n",
    "fig, axes = plt.subplots(1,len(df_inters)) \n",
    "for i,df_inter in enumerate(df_inters):\n",
    "    # Compute the correlation matrix\n",
    "    # (just on the dims, not on the rest of the information in interactions)\n",
    "    corr = df_inter.loc[:,df_inter.columns.str.contains('dim')].corr()\n",
    "    # Generate a mask for the upper triangle\n",
    "    mask = np.triu(np.ones_like(corr, dtype=bool))\n",
    "\n",
    "    # Generate a custom diverging colormap\n",
    "    cmap = sns.diverging_palette(230, 20, as_cmap=True)\n",
    "\n",
    "    # Draw the heatmap with the mask and correct aspect ratio\n",
    "    sns.heatmap(corr, mask=mask, cmap=cmap, center=0,\n",
    "                square=True, linewidths=.5, cbar_kws={\"shrink\": .5},ax=axes[i]).set_title(interaction_files[i])\n",
    "\n",
    "# looks quite independant no ? with that in mind they'd all be necessary."
   ]
  },
  {
   "cell_type": "markdown",
   "metadata": {},
   "source": [
    "lets add :\n",
    "* Independance of dims test\n",
    "* entropy of pop languages vs one on one languages\n",
    "* "
   ]
  }
 ],
 "metadata": {
  "kernelspec": {
   "display_name": "Python 3.10.4 ('quiche')",
   "language": "python",
   "name": "python3"
  },
  "language_info": {
   "codemirror_mode": {
    "name": "ipython",
    "version": 3
   },
   "file_extension": ".py",
   "mimetype": "text/x-python",
   "name": "python",
   "nbconvert_exporter": "python",
   "pygments_lexer": "ipython3",
   "version": "3.9.12"
  },
  "orig_nbformat": 4,
  "vscode": {
   "interpreter": {
    "hash": "324ce7a7d0b9f048f255dc75f437f5fcda6683ab9365148987b681d9b390c71e"
   }
  }
 },
 "nbformat": 4,
 "nbformat_minor": 2
}
